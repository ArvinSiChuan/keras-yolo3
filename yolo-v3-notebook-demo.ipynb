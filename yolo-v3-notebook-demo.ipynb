{
  "nbformat": 4,
  "nbformat_minor": 0,
  "metadata": {
    "colab": {
      "name": "classification4coco2014.ipynb",
      "version": "0.3.2",
      "provenance": [],
      "collapsed_sections": [],
      "toc_visible": true
    },
    "kernelspec": {
      "name": "python3",
      "display_name": "Python 3"
    },
    "accelerator": "GPU"
  },
  "cells": [
    {
      "cell_type": "code",
      "metadata": {
        "id": "zpQAk1hXaqKT",
        "colab_type": "code",
        "outputId": "8bbfc01e-5bc2-4f69-f273-64b3aad3cd2a",
        "colab": {
          "base_uri": "https://localhost:8080/",
          "height": 506
        }
      },
      "source": [
        "% load_ext autoreload\n",
        "% reload_ext autoreload\n",
        "% autoreload 2\n",
        "! rm -r keras-yolo3\n",
        "! nvidia-smi\n",
        "! git clone https://github.com/ArvinSiChuan/keras-yolo3.git"
      ],
      "execution_count": 3,
      "outputs": [
        {
          "output_type": "stream",
          "text": [
            "rm: cannot remove 'keras-yolo3': No such file or directory\n",
            "Mon Jun 17 01:52:48 2019       \n",
            "+-----------------------------------------------------------------------------+\n",
            "| NVIDIA-SMI 418.67       Driver Version: 410.79       CUDA Version: 10.0     |\n",
            "|-------------------------------+----------------------+----------------------+\n",
            "| GPU  Name        Persistence-M| Bus-Id        Disp.A | Volatile Uncorr. ECC |\n",
            "| Fan  Temp  Perf  Pwr:Usage/Cap|         Memory-Usage | GPU-Util  Compute M. |\n",
            "|===============================+======================+======================|\n",
            "|   0  Tesla T4            Off  | 00000000:00:04.0 Off |                    0 |\n",
            "| N/A   48C    P8    16W /  70W |      0MiB / 15079MiB |      0%      Default |\n",
            "+-------------------------------+----------------------+----------------------+\n",
            "                                                                               \n",
            "+-----------------------------------------------------------------------------+\n",
            "| Processes:                                                       GPU Memory |\n",
            "|  GPU       PID   Type   Process name                             Usage      |\n",
            "|=============================================================================|\n",
            "|  No running processes found                                                 |\n",
            "+-----------------------------------------------------------------------------+\n",
            "Cloning into 'keras-yolo3'...\n",
            "remote: Enumerating objects: 3, done.\u001b[K\n",
            "remote: Counting objects: 100% (3/3), done.\u001b[K\n",
            "remote: Compressing objects: 100% (3/3), done.\u001b[K\n",
            "remote: Total 147 (delta 0), reused 1 (delta 0), pack-reused 144\u001b[K\n",
            "Receiving objects: 100% (147/147), 154.71 KiB | 2.21 MiB/s, done.\n",
            "Resolving deltas: 100% (64/64), done.\n",
            "The autoreload extension is already loaded. To reload it, use:\n",
            "  %reload_ext autoreload\n"
          ],
          "name": "stdout"
        }
      ]
    },
    {
      "cell_type": "code",
      "metadata": {
        "id": "5XvpUT825cLX",
        "colab_type": "code",
        "outputId": "4e16f46e-5769-4424-d664-363affdd07c8",
        "colab": {
          "base_uri": "https://localhost:8080/",
          "height": 34
        }
      },
      "source": [
        "import os\n",
        "os.chdir('keras-yolo3')\n",
        "!pwd"
      ],
      "execution_count": 2,
      "outputs": [
        {
          "output_type": "stream",
          "text": [
            "/content/keras-yolo3\n"
          ],
          "name": "stdout"
        }
      ]
    },
    {
      "cell_type": "markdown",
      "metadata": {
        "id": "wN8M9mVka95z",
        "colab_type": "text"
      },
      "source": [
        "# Load weights & Convert"
      ]
    },
    {
      "cell_type": "code",
      "metadata": {
        "id": "Lbc9dgoonjSd",
        "colab_type": "code",
        "outputId": "74579a75-720c-46d7-8d3a-30b351613d15",
        "colab": {
          "base_uri": "https://localhost:8080/",
          "height": 204
        }
      },
      "source": [
        "! wget https://pjreddie.com/media/files/yolov3.weights\n",
        "! python3 convert.py yolov3.cfg yolov3.weights model_data/yolo.h5"
      ],
      "execution_count": 0,
      "outputs": [
        {
          "output_type": "stream",
          "text": [
            "--2019-06-14 01:54:40--  https://pjreddie.com/media/files/yolov3.weights\n",
            "Resolving pjreddie.com (pjreddie.com)... 128.208.4.108\n",
            "Connecting to pjreddie.com (pjreddie.com)|128.208.4.108|:443... connected.\n",
            "HTTP request sent, awaiting response... 200 OK\n",
            "Length: 248007048 (237M) [application/octet-stream]\n",
            "Saving to: ‘yolov3.weights’\n",
            "\n",
            "yolov3.weights      100%[===================>] 236.52M  27.0MB/s    in 19s     \n",
            "\n",
            "2019-06-14 01:54:59 (12.4 MB/s) - ‘yolov3.weights’ saved [248007048/248007048]\n",
            "\n"
          ],
          "name": "stdout"
        }
      ]
    },
    {
      "cell_type": "markdown",
      "metadata": {
        "id": "K7nB9IDbAAqy",
        "colab_type": "text"
      },
      "source": [
        "# Make Video Prediction\n"
      ]
    },
    {
      "cell_type": "markdown",
      "metadata": {
        "id": "aDD9t4OpGRzN",
        "colab_type": "text"
      },
      "source": [
        "## Upload file from your local disk"
      ]
    },
    {
      "cell_type": "code",
      "metadata": {
        "id": "0JAeVAQw_A4B",
        "colab_type": "code",
        "colab": {}
      },
      "source": [
        "from google.colab import files\n"
      ],
      "execution_count": 0,
      "outputs": []
    },
    {
      "cell_type": "code",
      "metadata": {
        "id": "aE_bKohMn4ZJ",
        "colab_type": "code",
        "colab": {}
      },
      "source": [
        "from yolo import YOLO, detect_video"
      ],
      "execution_count": 0,
      "outputs": []
    },
    {
      "cell_type": "code",
      "metadata": {
        "id": "5lw8f6i6tLkv",
        "colab_type": "code",
        "colab": {}
      },
      "source": [
        "! wget https://ak2.picdn.net/shutterstock/videos/1015781452/preview/stock-footage-establishing-aerial-view-of-tower-bridge-shard-london-skyline-london-united-kingdom.webm\n",
        "! mv stock-footage-establishing-aerial-view-of-tower-bridge-shard-london-skyline-london-united-kingdom.webm 1.webm\n",
        "! wget https://ak4.picdn.net/shutterstock/videos/1013359634/preview/stock-footage-plastic-bottles-in-a-polluted-river-water-aerial-view-drone-view.webm\n",
        "! mv stock-footage-plastic-bottles-in-a-polluted-river-water-aerial-view-drone-view.webm 2.webm"
      ],
      "execution_count": 0,
      "outputs": []
    },
    {
      "cell_type": "code",
      "metadata": {
        "id": "KlD8FEaTKZqH",
        "colab_type": "code",
        "colab": {}
      },
      "source": [
        "! wget https://static.videezy.com/system/resources/previews/000/007/540/original/sailboat1.mp4\n",
        "! mv sailboat1.mp4 3.mp4\n",
        "! wget https://static.videezy.com/system/resources/previews/000/020/789/original/P1033773.mp4\n",
        "! mv P1033773.mp4 4.mp4"
      ],
      "execution_count": 0,
      "outputs": []
    },
    {
      "cell_type": "code",
      "metadata": {
        "id": "rRL4tkIVVvt0",
        "colab_type": "code",
        "outputId": "71136a7c-b2a3-4ff4-b4a0-cbea365864d1",
        "colab": {
          "base_uri": "https://localhost:8080/",
          "height": 34
        }
      },
      "source": [
        "\n"
      ],
      "execution_count": 0,
      "outputs": [
        {
          "output_type": "stream",
          "text": [
            "Using TensorFlow backend.\n"
          ],
          "name": "stderr"
        }
      ]
    },
    {
      "cell_type": "code",
      "metadata": {
        "id": "GIq4uX9YtLXr",
        "colab_type": "code",
        "outputId": "cb8a0853-ef2e-4a87-de29-39a6b03cf0e8",
        "colab": {
          "base_uri": "https://localhost:8080/",
          "height": 377
        }
      },
      "source": [
        "detect_video(YOLO(), \"4.mp4\", \"4.output.mp4\")"
      ],
      "execution_count": 0,
      "outputs": [
        {
          "output_type": "stream",
          "text": [
            "WARNING: Logging before flag parsing goes to stderr.\n",
            "W0614 02:06:08.750900 140041104017280 deprecation_wrapper.py:119] From /usr/local/lib/python3.6/dist-packages/keras/backend/tensorflow_backend.py:174: The name tf.get_default_session is deprecated. Please use tf.compat.v1.get_default_session instead.\n",
            "\n",
            "W0614 02:06:08.752795 140041104017280 deprecation_wrapper.py:119] From /usr/local/lib/python3.6/dist-packages/keras/backend/tensorflow_backend.py:181: The name tf.ConfigProto is deprecated. Please use tf.compat.v1.ConfigProto instead.\n",
            "\n",
            "W0614 02:06:08.753795 140041104017280 deprecation_wrapper.py:119] From /usr/local/lib/python3.6/dist-packages/keras/backend/tensorflow_backend.py:186: The name tf.Session is deprecated. Please use tf.compat.v1.Session instead.\n",
            "\n",
            "W0614 02:06:08.975758 140041104017280 deprecation_wrapper.py:119] From /usr/local/lib/python3.6/dist-packages/keras/backend/tensorflow_backend.py:190: The name tf.global_variables is deprecated. Please use tf.compat.v1.global_variables instead.\n",
            "\n",
            "W0614 02:06:08.980089 140041104017280 deprecation_wrapper.py:119] From /usr/local/lib/python3.6/dist-packages/keras/backend/tensorflow_backend.py:517: The name tf.placeholder is deprecated. Please use tf.compat.v1.placeholder instead.\n",
            "\n",
            "W0614 02:06:09.585216 140041104017280 deprecation_wrapper.py:119] From /usr/local/lib/python3.6/dist-packages/keras/backend/tensorflow_backend.py:1834: The name tf.nn.fused_batch_norm is deprecated. Please use tf.compat.v1.nn.fused_batch_norm instead.\n",
            "\n",
            "W0614 02:06:15.086208 140041104017280 deprecation_wrapper.py:119] From /usr/local/lib/python3.6/dist-packages/keras/backend/tensorflow_backend.py:2018: The name tf.image.resize_nearest_neighbor is deprecated. Please use tf.compat.v1.image.resize_nearest_neighbor instead.\n",
            "\n"
          ],
          "name": "stderr"
        },
        {
          "output_type": "stream",
          "text": [
            "model_data/yolo.h5 model, anchors, and classes loaded.\n"
          ],
          "name": "stdout"
        },
        {
          "output_type": "stream",
          "text": [
            "W0614 02:06:21.269233 140041104017280 deprecation.py:323] From /usr/local/lib/python3.6/dist-packages/tensorflow/python/ops/array_ops.py:1354: add_dispatch_support.<locals>.wrapper (from tensorflow.python.ops.array_ops) is deprecated and will be removed in a future version.\n",
            "Instructions for updating:\n",
            "Use tf.where in 2.0, which has the same broadcast rule as np.where\n"
          ],
          "name": "stderr"
        },
        {
          "output_type": "stream",
          "text": [
            "!!! TYPE: <class 'str'> (630, 354) <class 'int'> <class 'float'> <class 'tuple'>\n"
          ],
          "name": "stdout"
        }
      ]
    },
    {
      "cell_type": "code",
      "metadata": {
        "id": "qogwT-TtFZ6y",
        "colab_type": "code",
        "outputId": "845324a1-4bd4-46ba-a94e-50b859c8226e",
        "colab": {
          "base_uri": "https://localhost:8080/",
          "height": 375
        }
      },
      "source": [
        "%%HTML\n",
        "<video controls src=\"https://static.videezy.com/system/resources/previews/000/020/789/original/P1033773.mp4\" />"
      ],
      "execution_count": 0,
      "outputs": [
        {
          "output_type": "display_data",
          "data": {
            "text/html": [
              "<video controls src=\"https://static.videezy.com/system/resources/previews/000/020/789/original/P1033773.mp4\" />"
            ],
            "text/plain": [
              "<IPython.core.display.HTML object>"
            ]
          },
          "metadata": {
            "tags": []
          }
        }
      ]
    },
    {
      "cell_type": "code",
      "metadata": {
        "id": "sKm6CzyCJDcK",
        "colab_type": "code",
        "colab": {}
      },
      "source": [
        "! pwd"
      ],
      "execution_count": 0,
      "outputs": []
    },
    {
      "cell_type": "code",
      "metadata": {
        "id": "QEWAchhJbIVP",
        "colab_type": "code",
        "colab": {}
      },
      "source": [
        "# tfds works in both Eager and Graph modes\n",
        "tf.enable_eager_execution()\n",
        "\n",
        "# See available datasets\n",
        "print(tfds.list_builders())\n",
        "\n",
        "# Construct a tf.data.Dataset\n",
        "dataset = tfds.load(name=\"coco2014\", split=tfds.Split.TRAIN)\n",
        "\n",
        "# Build your input pipeline\n",
        "dataset = dataset.shuffle(1024).batch(32).prefetch(tf.data.experimental.AUTOTUNE)\n",
        "for features in dataset.take(1):\n",
        "  image, label = features[\"image\"], features[\"label\"]"
      ],
      "execution_count": 0,
      "outputs": []
    },
    {
      "cell_type": "code",
      "metadata": {
        "id": "jR48j4vskNOB",
        "colab_type": "code",
        "colab": {}
      },
      "source": [
        "from tf import keras \n",
        "\n",
        "model = keras.models.Sequential([\n",
        "    \n",
        "])"
      ],
      "execution_count": 0,
      "outputs": []
    }
  ]
}